{
 "cells": [
  {
   "cell_type": "code",
   "execution_count": 8,
   "id": "e7392720-6ecc-41a7-ab47-4db083e3323d",
   "metadata": {},
   "outputs": [],
   "source": [
    "import sys\n",
    "sys.path.append(\"../data\")\n",
    "sys.path.append(\"../utils\")\n",
    "from spark_functions import create_SparkSession"
   ]
  },
  {
   "cell_type": "code",
   "execution_count": 9,
   "id": "2e5f8c6a-fdf7-4637-a2ed-b2ee9b6bf55c",
   "metadata": {},
   "outputs": [],
   "source": [
    "spark = create_SparkSession()"
   ]
  },
  {
   "cell_type": "code",
   "execution_count": 6,
   "id": "dcf9644b-7ddc-4b8e-9e0e-652e3d0807c3",
   "metadata": {},
   "outputs": [
    {
     "data": {
      "text/plain": [
       "['.ipynb_checkpoints', 'spark_functions.py', 'string_functions.py']"
      ]
     },
     "execution_count": 6,
     "metadata": {},
     "output_type": "execute_result"
    }
   ],
   "source": [
    "os.listdir(\"../utils\")"
   ]
  }
 ],
 "metadata": {
  "kernelspec": {
   "display_name": "Python 3 (ipykernel)",
   "language": "python",
   "name": "python3"
  },
  "language_info": {
   "codemirror_mode": {
    "name": "ipython",
    "version": 3
   },
   "file_extension": ".py",
   "mimetype": "text/x-python",
   "name": "python",
   "nbconvert_exporter": "python",
   "pygments_lexer": "ipython3",
   "version": "3.10.9"
  }
 },
 "nbformat": 4,
 "nbformat_minor": 5
}
