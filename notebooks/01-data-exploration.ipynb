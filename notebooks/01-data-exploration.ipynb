{
 "cells": [
  {
   "cell_type": "markdown",
   "id": "462fbd0e",
   "metadata": {},
   "source": [
    "# Libary Imports"
   ]
  },
  {
   "cell_type": "code",
   "execution_count": 1,
   "id": "e7392720-6ecc-41a7-ab47-4db083e3323d",
   "metadata": {},
   "outputs": [],
   "source": [
    "import sys\n",
    "\n",
    "sys.path.append(\"../utils\")\n",
    "from spark_functions import create_SparkSession\n",
    "from logging_functions import inject_logging\n",
    "from string_functions import to_snake_case\n",
    "\n",
    "spark = create_SparkSession()"
   ]
  },
  {
   "cell_type": "markdown",
   "id": "bb30d9d3",
   "metadata": {},
   "source": [
    "# Load Data\n",
    "## Camera Traffic Counts"
   ]
  },
  {
   "cell_type": "code",
   "execution_count": 7,
   "id": "81231ebd-55c8-46b7-9915-ffd7028a0bff",
   "metadata": {},
   "outputs": [
    {
     "name": "stdout",
     "output_type": "stream",
     "text": [
      "+--------------------+-------------+--------------------+------------------+----------+----------+-------------+------+----------------------------+-------------+-----------------------+-----------------------+-----+---+----+----+------+-----------+--------------------+\n",
      "|           record_id|atd_device_id|           read_date| intersection_name| direction|  movement|heavy_vehicle|volume|speed_average_miles_per_hour|speed_std_dev|seconds_in_zone_average|seconds_in_zone_std_dev|month|day|year|hour|minute|day_of_week|bin_duration_seconds|\n",
      "+--------------------+-------------+--------------------+------------------+----------+----------+-------------+------+----------------------------+-------------+-----------------------+-----------------------+-----+---+----+----+------+-----------+--------------------+\n",
      "|f6d2caebed1dc902b...|         7047|03/11/2020 02:30:...|MANOR RD / 51ST ST|NORTHBOUND| LEFT TURN|        false|    14|                         8.5|         2.21|                 12.407|                 23.497|    3| 11|2020|  14|    30|          3|                 900|\n",
      "|5ceb46cceba70cbb9...|         7047|03/11/2020 02:30:...|MANOR RD / 51ST ST|NORTHBOUND|RIGHT TURN|        false|     6|                       9.167|        0.408|                  3.033|                  0.734|    3| 11|2020|  14|    30|          3|                 900|\n",
      "|a5610981d8ae35224...|         7047|03/11/2020 02:30:...|MANOR RD / 51ST ST|NORTHBOUND|      THRU|        false|    48|                      12.729|        3.625|                 18.598|                 32.737|    3| 11|2020|  14|    30|          3|                 900|\n",
      "|e707407844e917a07...|         7047|03/11/2020 02:30:...|MANOR RD / 51ST ST|SOUTHBOUND| LEFT TURN|        false|    20|                         9.6|        4.453|                  38.39|                 38.616|    3| 11|2020|  14|    30|          3|                 900|\n",
      "|50ac50f9f95266900...|         7047|03/11/2020 02:30:...|MANOR RD / 51ST ST|SOUTHBOUND|RIGHT TURN|        false|     7|                       7.143|        1.773|                   14.5|                 16.878|    3| 11|2020|  14|    30|          3|                 900|\n",
      "|7b70f41ec5ead5027...|         7047|03/11/2020 02:30:...|MANOR RD / 51ST ST|SOUTHBOUND|      THRU|        false|    33|                       15.97|        5.736|                  2.564|                 10.025|    3| 11|2020|  14|    30|          3|                 900|\n",
      "|c6ada4d05eafde48d...|         7047|03/11/2020 02:30:...|MANOR RD / 51ST ST|SOUTHBOUND|      THRU|         true|     5|                        18.8|        7.791|                  26.88|                  37.45|    3| 11|2020|  14|    30|          3|                 900|\n",
      "|663b83bbd8e2b1f36...|         7047|03/11/2020 02:30:...|MANOR RD / 51ST ST| WESTBOUND| LEFT TURN|        false|     4|                        8.25|          1.5|                 17.975|                 31.716|    3| 11|2020|  14|    30|          3|                 900|\n",
      "|f7717a8e45df4003d...|         7047|03/11/2020 02:30:...|MANOR RD / 51ST ST| WESTBOUND|RIGHT TURN|        false|     9|                       8.667|        2.236|                    3.4|                  2.228|    3| 11|2020|  14|    30|          3|                 900|\n",
      "|9320b0f9e5850015d...|         7047|03/11/2020 02:30:...|MANOR RD / 51ST ST| WESTBOUND|      THRU|        false|    76|                      16.303|        4.671|                  7.572|                 17.438|    3| 11|2020|  14|    30|          3|                 900|\n",
      "+--------------------+-------------+--------------------+------------------+----------+----------+-------------+------+----------------------------+-------------+-----------------------+-----------------------+-----+---+----+----+------+-----------+--------------------+\n",
      "\n"
     ]
    }
   ],
   "source": [
    "base_path = \"../data\"\n",
    "\n",
    "\n",
    "camera_traffic = spark.read.option(\"header\", True).csv(\n",
    "    f\"{base_path}/Camera_Traffic_Counts_20250125.csv\"\n",
    ")\n",
    "for col_ in camera_traffic.columns:\n",
    "\n",
    "    camera_traffic = camera_traffic.withColumnRenamed(col_, to_snake_case(col_))\n",
    "\n",
    "camera_traffic.limit(10).show()"
   ]
  },
  {
   "cell_type": "markdown",
   "id": "f1a67cfc",
   "metadata": {},
   "source": [
    "## Radar Traffic Counts"
   ]
  },
  {
   "cell_type": "code",
   "execution_count": 8,
   "id": "b532b088",
   "metadata": {},
   "outputs": [
    {
     "name": "stdout",
     "output_type": "stream",
     "text": [
      "+--------------------+-----------+-------+--------------------+--------------------+--------+------+---------+-----+-----+---+----+----+------+-----------+--------+---------+\n",
      "|              row_id|detector_id|kits_id|           read_date|   intersection_name|    lane|volume|occupancy|speed|month|day|year|hour|minute|day_of_week|time_bin|direction|\n",
      "+--------------------+-----------+-------+--------------------+--------------------+--------+------+---------+-----+-----+---+----+----+------+-----------+--------+---------+\n",
      "|9794d3655e0572eb8...|         74|     19|01/24/2018 04:15:...|         KINNEYLAMAR|   Lane1|     4|        0|   18|    1| 23|2018|  22|    15|          2|   22:15|     None|\n",
      "|1f51f4e6a68297c9f...|         92|     24|12/17/2017 01:45:...|    LOOP 360LAKEWOOD|  NB_out|   103|        6|   40|   12| 16|2017|  19|    45|          6|   19:45|       NB|\n",
      "|9de27c4292306d305...|         10|      3|01/01/156489 12:0...|     LAMARSHOALCREEK|  SB_out|    20|        1|   33|    8|  3|2019|  23|    15|          6|   23:15|       SB|\n",
      "|b5a5739acbc9481c9...|          1|      1|04/03/2020 11:15:...|       LAMARMANCHACA|  NB_out|     8|        0|   32|    4|  3|2020|  23|    15|          5|   23:15|       NB|\n",
      "|8b4b5e8a088d964b3...|         42|     14|01/24/2018 03:45:...|Robert E LeeBarto...|      SB|    44|        2|   27|    1| 23|2018|  21|    45|          2|   21:45|       SB|\n",
      "|31dd37230aa53d251...|         43|     14|01/24/2018 03:45:...|Robert E LeeBarto...|      NB|    13|        0|   28|    1| 23|2018|  21|    45|          2|   21:45|       NB|\n",
      "|f9ae7785b78479b31...|         75|     19|01/24/2018 04:15:...|         KINNEYLAMAR|   Lane2|     0|        0|  149|    1| 23|2018|  22|    15|          2|   22:15|     None|\n",
      "|60c5f3a6afa691202...|         87|     23|01/24/2018 04:15:...|      BURNETPALM WAY|  SB_out|    26|        1|   41|    1| 23|2018|  22|    15|          2|   22:15|       SB|\n",
      "|02b9141602b86cccf...|         88|     23|01/24/2018 04:15:...|      BURNETPALM WAY|   SB_in|    31|        1|   41|    1| 23|2018|  22|    15|          2|   22:15|       SB|\n",
      "|7cfa1ed2734114d18...|         89|     23|01/24/2018 04:15:...|      BURNETPALM WAY|SB_Lturn|    12|        1|   18|    1| 23|2018|  22|    15|          2|   22:15|       SB|\n",
      "+--------------------+-----------+-------+--------------------+--------------------+--------+------+---------+-----+-----+---+----+----+------+-----------+--------+---------+\n",
      "\n"
     ]
    }
   ],
   "source": [
    "radar_traffic = spark.read.option(\"header\", True).csv(\n",
    "    f\"{base_path}/Radar_Traffic_Counts_20250125.csv\"\n",
    ")\n",
    "for col_ in radar_traffic.columns:\n",
    "    radar_traffic = radar_traffic.withColumnRenamed(col_, to_snake_case(col_))\n",
    "radar_traffic.limit(10).show()"
   ]
  },
  {
   "cell_type": "code",
   "execution_count": 10,
   "id": "3fab09bd",
   "metadata": {},
   "outputs": [
    {
     "data": {
      "text/plain": [
       "86"
      ]
     },
     "execution_count": 10,
     "metadata": {},
     "output_type": "execute_result"
    }
   ],
   "source": [
    "radar_traffic.select(\"detector_id\").distinct().count()"
   ]
  },
  {
   "cell_type": "markdown",
   "id": "dc8ec533",
   "metadata": {},
   "source": [
    "## Traffic Detectors"
   ]
  },
  {
   "cell_type": "code",
   "execution_count": 9,
   "id": "aff05ca9",
   "metadata": {},
   "outputs": [
    {
     "name": "stdout",
     "output_type": "stream",
     "text": [
      "+-----------+-------------+---------------+------------------+-----------------+--------------------+---------------+---------+--------------------+--------------------+--------------+------------------------+-----------------+------------------+--------------------+\n",
      "|detector_id|detector_type|detector_status|detector_direction|detector_movement|       location_name|atd_location_id|signal_id|        created_date|       modified_date|ip_comm_status|comm_status_datetime_utc|location_latitude|location_longitude|            location|\n",
      "+-----------+-------------+---------------+------------------+-----------------+--------------------+---------------+---------+--------------------+--------------------+--------------+------------------------+-----------------+------------------+--------------------+\n",
      "|        257|        VIDEO|             OK|        NORTHBOUND|        THRU ONLY| 12700 BLK DESSAU RD|   LOC16-004035|      820|                NULL|10/07/2024 09:31:...|          NULL|                    NULL|             NULL|              NULL|POINT (-97.642685...|\n",
      "|        652|         LOOP|        REMOVED|         WESTBOUND|        LEFT TURN| AIRPORT BLVD / 1...|   LOC16-000810|      163|                NULL|02/27/2024 09:12:...|          NULL|                    NULL|             NULL|              NULL|POINT (-97.700333...|\n",
      "|         44|         LOOP|             OK|         WESTBOUND|THRU / RIGHT TURN| LAMAR BLVD / MAR...|   LOC16-000545|      110|                NULL|12/22/2023 02:37:...|          NULL|                    NULL|             NULL|              NULL|POINT (-97.752075...|\n",
      "|       1707|         LOOP|             OK|         WESTBOUND|THRU / RIGHT TURN| BURNET RD / ADAM...|   LOC16-004710|      964|06/28/2017 12:00:...|12/18/2024 05:17:...|          NULL|                    NULL|             NULL|              NULL|POINT (-97.739891...|\n",
      "|         71|         LOOP|        REMOVED|         WESTBOUND|THRU / RIGHT TURN| WILLIAM CANNON D...|   LOC16-002025|      413|                NULL|06/27/2020 10:46:...|          NULL|                    NULL|             NULL|              NULL|POINT (-97.770111...|\n",
      "|        119|         LOOP|        REMOVED|        NORTHBOUND|THRU / RIGHT TURN| MANOR RD / ED BL...|   LOC16-003095|      627|                NULL|06/27/2020 04:09:...|          NULL|                    NULL|             NULL|              NULL|POINT (-97.663574...|\n",
      "|       2652|         LOOP|        REMOVED|         WESTBOUND|THRU / RIGHT TURN| AVERY RANCH BLVD...|   LOC16-003995|      812|06/23/2017 12:00:...|06/20/2022 07:08:...|          NULL|                    NULL|             NULL|              NULL|POINT (-97.767067...|\n",
      "|       1800|         LOOP|        REMOVED|         WESTBOUND|THRU / RIGHT TURN| WILLIAM CANNON D...|   LOC16-004620|      946|06/28/2017 12:00:...|12/17/2023 07:24:...|          NULL|                    NULL|             NULL|              NULL|POINT (-97.836968...|\n",
      "|        202|        VIDEO|             OK|        SOUTHBOUND|        LEFT TURN| CONGRESS AVE / L...|   LOC16-001140|      232|                NULL|04/05/2024 05:37:...|          NULL|                    NULL|             NULL|              NULL|POINT (-97.760208...|\n",
      "|        834|         LOOP|             OK|        SOUTHBOUND|THRU / RIGHT TURN| HOWARD LN / CENT...|   LOC16-001755|      358|                NULL|12/10/2023 08:22:...|          NULL|                    NULL|             NULL|              NULL|POINT (-97.665825...|\n",
      "+-----------+-------------+---------------+------------------+-----------------+--------------------+---------------+---------+--------------------+--------------------+--------------+------------------------+-----------------+------------------+--------------------+\n",
      "\n"
     ]
    }
   ],
   "source": [
    "traffic_detectors = spark.read.option(\"header\", True).csv(\n",
    "    f\"{base_path}/Traffic_Detectors_20250125.csv\"\n",
    ")\n",
    "for col_ in traffic_detectors.columns:\n",
    "    traffic_detectors = traffic_detectors.withColumnRenamed(col_, to_snake_case(col_))\n",
    "traffic_detectors.limit(10).show()"
   ]
  },
  {
   "cell_type": "markdown",
   "id": "ec7f32a0",
   "metadata": {},
   "source": [
    "## Individual Address Files"
   ]
  },
  {
   "cell_type": "code",
   "execution_count": 16,
   "id": "7cc56791",
   "metadata": {},
   "outputs": [
    {
     "name": "stdout",
     "output_type": "stream",
     "text": [
      "+--------------------+--------------------+----------------------+-----------------+--------------+\n",
      "|           record_id|      host_read_time|field_device_read_time|reader_identifier|device_address|\n",
      "+--------------------+--------------------+----------------------+-----------------+--------------+\n",
      "|e60fa504f56592882...|08/28/2019 08:08:...|  08/28/2019 08:08:...|     lamar_morrow|          5444|\n",
      "|6ccf9bc09f94adcf6...|08/28/2019 08:08:...|  08/28/2019 08:08:...|     lamar_morrow|         37197|\n",
      "|8c92a42d206a0c867...|08/28/2019 08:08:...|  08/28/2019 08:08:...|     lamar_morrow|          7947|\n",
      "|b141f5991a32e5874...|08/28/2019 08:09:...|  08/28/2019 08:09:...|     lamar_morrow|          1701|\n",
      "|9a945c4a0553c1e4e...|08/28/2019 08:09:...|  08/28/2019 08:09:...|     lamar_morrow|           278|\n",
      "|0c009feda4adb5440...|08/28/2019 08:09:...|  08/28/2019 08:09:...|     lamar_morrow|         37198|\n",
      "|26ab5aaf898ed8da9...|08/28/2019 08:09:...|  08/28/2019 08:09:...|     lamar_morrow|         24651|\n",
      "|d8c8c7546ea49142d...|08/28/2019 08:09:...|  08/28/2019 08:09:...|     lamar_morrow|          1936|\n",
      "|4a47e0c629bb22822...|08/28/2019 08:09:...|  08/28/2019 08:10:...|     lamar_morrow|          7633|\n",
      "|d990f636eb5e18f38...|08/28/2019 08:10:...|  08/28/2019 08:10:...|     lamar_morrow|         18157|\n",
      "+--------------------+--------------------+----------------------+-----------------+--------------+\n",
      "\n"
     ]
    }
   ],
   "source": [
    "IAFs = spark.read.option(\"header\", True).csv(\n",
    "    f\"{base_path}/Bluetooth_Travel_Sensors_-_Individual_Address_Files__IAFs_.csv\"\n",
    ")\n",
    "for col_ in IAFs.columns:\n",
    "    IAFs = IAFs.withColumnRenamed(col_, to_snake_case(col_))\n",
    "IAFs.limit(10).show()"
   ]
  },
  {
   "cell_type": "markdown",
   "id": "fb768af0",
   "metadata": {},
   "source": [
    "## Individual Traffic Match Files"
   ]
  },
  {
   "cell_type": "code",
   "execution_count": 15,
   "id": "480f3919",
   "metadata": {},
   "outputs": [
    {
     "name": "stdout",
     "output_type": "stream",
     "text": [
      "+--------------------+--------------+------------------------+-----------------------------+-------------------+--------------------+--------------+-----------------+-------------------+-------------------+-----------+\n",
      "|           record_id|device_address|origin_reader_identifier|destination_reader_identifier|travel_time_seconds|speed_miles_per_hour|match_validity|filter_identifier|         start_time|           end_time|day_of_week|\n",
      "+--------------------+--------------+------------------------+-----------------------------+-------------------+--------------------+--------------+-----------------+-------------------+-------------------+-----------+\n",
      "|cdac7d191483cacf2...|           706|              lamar_45th|                   lamar_38th|                 50|                  47|         valid|              125|2019-08-17T23:28:56|2019-08-17T23:29:46|   Saturday|\n",
      "|6e2a448e185b9742c...|           707|              lamar_45th|                   lamar_38th|                 58|                  41|         valid|              125|2019-08-17T23:33:12|2019-08-17T23:34:10|   Saturday|\n",
      "|32e7a2cd3371ac27c...|             3|              lamar_45th|                   lamar_38th|                 67|                  35|         valid|              125|2019-08-17T23:35:47|2019-08-17T23:36:54|   Saturday|\n",
      "|c34fc75428e9cb3c3...|           708|              lamar_45th|                   lamar_38th|                 44|                  54|       invalid|              125|2019-08-17T23:47:02|2019-08-17T23:47:46|   Saturday|\n",
      "|c80a810642d75887a...|           709|              lamar_29th|                 lamar_morrow|                793|                  17|       invalid|              125|2019-08-16T23:55:46|2019-08-17T00:08:59|     Friday|\n",
      "|ce42f461498764d57...|           710|              lamar_29th|                 lamar_morrow|               3701|                   4|       invalid|              125|2019-08-16T23:53:12|2019-08-17T00:54:53|     Friday|\n",
      "|ef4576f8dc6a94c91...|           711|              lamar_29th|                 lamar_morrow|               2690|                   5|       invalid|              125|2019-08-17T00:11:28|2019-08-17T00:56:18|   Saturday|\n",
      "|8e5cce54a3cf2a8ee...|           712|              lamar_29th|                 lamar_morrow|               2464|                   6|       invalid|              125|2019-08-17T02:30:02|2019-08-17T03:11:06|   Saturday|\n",
      "|0464beae0558de80c...|           713|              lamar_29th|                 lamar_morrow|               1566|                   9|       invalid|              125|2019-08-17T03:05:26|2019-08-17T03:31:32|   Saturday|\n",
      "|71c4422255cf52f63...|           714|              lamar_29th|                 lamar_morrow|                409|                  33|       invalid|              125|2019-08-17T03:33:50|2019-08-17T03:40:38|   Saturday|\n",
      "+--------------------+--------------+------------------------+-----------------------------+-------------------+--------------------+--------------+-----------------+-------------------+-------------------+-----------+\n",
      "\n"
     ]
    }
   ],
   "source": [
    "ITMF = spark.read.option(\"header\", True).csv(\n",
    "    f\"{base_path}/Bluetooth_Travel_Sensors_-_Individual_Traffic_Match_Files__ITMF_.csv\"\n",
    ")\n",
    "for col_ in ITMF.columns:\n",
    "    ITMF = ITMF.withColumnRenamed(col_, to_snake_case(col_))\n",
    "ITMF.limit(10).show()"
   ]
  },
  {
   "cell_type": "markdown",
   "id": "fb0ea163",
   "metadata": {},
   "source": [
    "## Traffic Match Summary Records"
   ]
  },
  {
   "cell_type": "code",
   "execution_count": 13,
   "id": "48d8ef12",
   "metadata": {},
   "outputs": [
    {
     "name": "stdout",
     "output_type": "stream",
     "text": [
      "+--------------------+------------------------+-----------------------------+--------------+-------------------+----------------+-------------------+------------------------+---------------------+--------------------+--------------------+---------------------------+-----------------+------------------------+--------------+------------------+\n",
      "|           record_id|origin_reader_identifier|destination_reader_identifier|origin_roadway|origin_cross_street|origin_direction|destination_roadway|destination_cross_street|destination_direction|segment_length_miles|           timestamp|average_travel_time_seconds|average_speed_mph|summary_interval_minutes|number_samples|standard_deviation|\n",
      "+--------------------+------------------------+-----------------------------+--------------+-------------------+----------------+-------------------+------------------------+---------------------+--------------------+--------------------+---------------------------+-----------------+------------------------+--------------+------------------+\n",
      "|2fd681965926a3046...|               lamar_5th|                   lamar_24th|         Lamar|                5th|      Northbound|              Lamar|                    24th|           Southbound|                1.35|03/10/2021 02:00:...|                         -1|               -1|                      15|             0|                -1|\n",
      "|7ee59a7d82171086f...|               lamar_5th|                    lamar_6th|         Lamar|                5th|      Northbound|              Lamar|                  6th St|           Southbound|               0.095|03/10/2021 02:00:...|                         -1|               -1|                      15|             0|                -1|\n",
      "|b7566c82386e4279a...|               lamar_5th|         lamar_barton_springs|         Lamar|                5th|      Southbound|              Lamar|          Barton Springs|           Northbound|               0.691|03/10/2021 02:00:...|                         -1|               -1|                      15|             0|                -1|\n",
      "|03c6f6398262d3035...|               lamar_5th|              lamar_riverside|         Lamar|                5th|      Southbound|              Lamar|               Riverside|           Northbound|               0.426|03/10/2021 02:00:...|                         -1|               -1|                      15|             0|                -1|\n",
      "|e59562cddbd6fadb1...|               lamar_6th|                 6th_campbell|           6th|              Lamar|       Westbound|                6th|                Campbell|            Eastbound|               0.679|03/10/2021 02:00:...|                         -1|               -1|                      15|             0|                -1|\n",
      "|0742f197c5ec793b7...|               lamar_6th|                   lamar_12th|         Lamar|                6th|      Northbound|              Lamar|                    12th|           Southbound|               0.398|03/10/2021 02:00:...|                         -1|               -1|                      15|             0|                -1|\n",
      "|e1f39a994b793e78d...|               lamar_6th|                    lamar_5th|         Lamar|                6th|      Southbound|              Lamar|                     5th|           Northbound|               0.095|03/10/2021 02:00:...|                         -1|               -1|                      15|             0|                -1|\n",
      "|c2f3e5a6b4440a06b...|               lamar_6th|                    lamar_mlk|         Lamar|                6th|      Northbound|              Lamar|                     MLK|           Southbound|                 0.9|03/10/2021 02:00:...|                        122|               27|                      15|             5|              0.55|\n",
      "|240c195953d9b3e45...|               lamar_6th|              lamar_riverside|         Lamar|                6th|      Southbound|              Lamar|               Riverside|           Northbound|             0.52278|03/10/2021 02:00:...|                         80|               24|                      15|             3|              5.57|\n",
      "|5cee0e149b0712308...|           lamar_airport|                   lamar_38th|         Lamar|            Airport|      Southbound|              Lamar|                    38th|           Northbound|                2.71|03/10/2021 02:00:...|                        381|               26|                      15|             2|              6.36|\n",
      "+--------------------+------------------------+-----------------------------+--------------+-------------------+----------------+-------------------+------------------------+---------------------+--------------------+--------------------+---------------------------+-----------------+------------------------+--------------+------------------+\n",
      "\n"
     ]
    }
   ],
   "source": [
    "TMSR = spark.read.option(\"header\", True).csv(\n",
    "    f\"{base_path}/Bluetooth_Travel_Sensors_-Traffic_Match_Summary_Records__TMSR__20250125.csv\"\n",
    ")\n",
    "for col_ in TMSR.columns:\n",
    "    TMSR = TMSR.withColumnRenamed(col_, to_snake_case(col_))\n",
    "TMSR.limit(10).show()"
   ]
  },
  {
   "cell_type": "code",
   "execution_count": null,
   "id": "708a09fc",
   "metadata": {},
   "outputs": [],
   "source": []
  },
  {
   "cell_type": "code",
   "execution_count": 11,
   "id": "a578dfab",
   "metadata": {},
   "outputs": [
    {
     "data": {
      "text/plain": [
       "5384"
      ]
     },
     "execution_count": 11,
     "metadata": {},
     "output_type": "execute_result"
    }
   ],
   "source": [
    "traffic_detectors.select(\"detector_id\").distinct().count()"
   ]
  },
  {
   "cell_type": "code",
   "execution_count": null,
   "id": "e8f0fbdb",
   "metadata": {},
   "outputs": [],
   "source": [
    "[\n",
    "    \"Record ID\",\n",
    "    \"ATD Device ID\",\n",
    "    \"Read Date\",\n",
    "    \"Intersection Name\",\n",
    "    \"Direction\",\n",
    "    \"Movement\",\n",
    "    \"Heavy Vehicle\",\n",
    "    \"Volume\",\n",
    "    \"Speed Average (Miles Per Hour)\",\n",
    "    \"Speed StdDev\",\n",
    "    \"Seconds in Zone Average\",\n",
    "    \"Seconds in Zone StdDev\",\n",
    "    \"Month\",\n",
    "    \"Day\",\n",
    "    \"Year\",\n",
    "    \"Hour\",\n",
    "    \"Minute\",\n",
    "    \"Day of Week\",\n",
    "    \"Bin Duration (Seconds)\",\n",
    "]"
   ]
  },
  {
   "cell_type": "code",
   "execution_count": null,
   "id": "5d483c20",
   "metadata": {},
   "outputs": [],
   "source": [
    "[\n",
    "    \"record _i_d\",\n",
    "    \"a_t_d _device _i_d\",\n",
    "    \"read _date\",\n",
    "    \"intersection _name\",\n",
    "    \"direction\",\n",
    "    \"movement\",\n",
    "    \"heavy _vehicle\",\n",
    "    \"volume\",\n",
    "    \"speed _average (_miles _per _hour)\",\n",
    "    \"speed _std_dev\",\n",
    "    \"seconds in _zone _average\",\n",
    "    \"seconds in _zone _std_dev\",\n",
    "    \"month\",\n",
    "    \"day\",\n",
    "    \"year\",\n",
    "    \"hour\",\n",
    "    \"minute\",\n",
    "    \"day of _week\",\n",
    "    \"bin _duration (_seconds)\",\n",
    "]"
   ]
  },
  {
   "cell_type": "code",
   "execution_count": 11,
   "id": "a306d832-47bf-403e-becb-33d2e66a354b",
   "metadata": {},
   "outputs": [],
   "source": [
    "spark.stop()"
   ]
  }
 ],
 "metadata": {
  "kernelspec": {
   "display_name": ".venv",
   "language": "python",
   "name": "python3"
  },
  "language_info": {
   "codemirror_mode": {
    "name": "ipython",
    "version": 3
   },
   "file_extension": ".py",
   "mimetype": "text/x-python",
   "name": "python",
   "nbconvert_exporter": "python",
   "pygments_lexer": "ipython3",
   "version": "3.10.9"
  }
 },
 "nbformat": 4,
 "nbformat_minor": 5
}
