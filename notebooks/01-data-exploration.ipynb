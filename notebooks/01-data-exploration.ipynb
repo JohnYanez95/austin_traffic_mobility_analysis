{
 "cells": [
  {
   "cell_type": "code",
   "execution_count": 1,
   "id": "e7392720-6ecc-41a7-ab47-4db083e3323d",
   "metadata": {},
   "outputs": [],
   "source": [
    "import sys\n",
    "sys.path.append(\"../utils\")\n",
    "from spark_functions import create_SparkSession\n",
    "from logging_functions import inject_logging\n",
    "from string_functions import to_snake_case\n",
    "spark = create_SparkSession()"
   ]
  },
  {
   "cell_type": "code",
   "execution_count": 3,
   "id": "80c405b3",
   "metadata": {},
   "outputs": [
    {
     "data": {
      "text/plain": [
       "['Camera_Traffic_Counts_20250125.csv',\n",
       " 'Radar_Traffic_Counts_20250125.csv',\n",
       " 'Traffic_Detectors_20250125.csv']"
      ]
     },
     "execution_count": 3,
     "metadata": {},
     "output_type": "execute_result"
    }
   ],
   "source": [
    "import os\n",
    "os.listdir('../data/')"
   ]
  },
  {
   "cell_type": "code",
   "execution_count": 2,
   "id": "81231ebd-55c8-46b7-9915-ffd7028a0bff",
   "metadata": {},
   "outputs": [
    {
     "data": {
      "text/plain": [
       "['record_id',\n",
       " 'atd_device_id',\n",
       " 'read_date',\n",
       " 'intersection_name',\n",
       " 'direction',\n",
       " 'movement',\n",
       " 'heavy_vehicle',\n",
       " 'volume',\n",
       " 'speed_average_miles_per_hour',\n",
       " 'speed_std_dev',\n",
       " 'seconds_in_zone_average',\n",
       " 'seconds_in_zone_std_dev',\n",
       " 'month',\n",
       " 'day',\n",
       " 'year',\n",
       " 'hour',\n",
       " 'minute',\n",
       " 'day_of_week',\n",
       " 'bin_duration_seconds']"
      ]
     },
     "execution_count": 2,
     "metadata": {},
     "output_type": "execute_result"
    }
   ],
   "source": [
    "base_path = \"../data\"\n",
    "\n",
    "\n",
    "camera_traffic = spark.read.option(\"header\",True).csv(f\"{base_path}/Camera_Traffic_Counts_20250125.csv\")\n",
    "for col_ in camera_traffic.columns:\n",
    "    camera_traffic = camera_traffic.withColumnRenamed(col_,to_snake_case(col_))\n",
    "\n",
    "radar_traffic = spark.read.option(\"header\",True).csv(f\"{base_path}/Radar_Traffic_Counts_20250125.csv\")\n",
    "for col_ in radar_traffic.columns:\n",
    "    radar_traffic = radar_traffic.withColumnRenamed(col_,to_snake_case(col_))\n",
    "\n",
    "traffic_detectors = spark.read.option(\"header\",True).csv(f\"{base_path}/Traffic_Detectors_20250125.csv\")\n",
    "for col_ in traffic_detectors.columns:\n",
    "    traffic_detectors = traffic_detectors.withColumnRenamed(col_,to_snake_case(col_))"
   ]
  },
  {
   "cell_type": "code",
   "execution_count": null,
   "id": "e8f0fbdb",
   "metadata": {},
   "outputs": [],
   "source": [
    "['Record ID',\n",
    " 'ATD Device ID',\n",
    " 'Read Date',\n",
    " 'Intersection Name',\n",
    " 'Direction',\n",
    " 'Movement',\n",
    " 'Heavy Vehicle',\n",
    " 'Volume',\n",
    " 'Speed Average (Miles Per Hour)',\n",
    " 'Speed StdDev',\n",
    " 'Seconds in Zone Average',\n",
    " 'Seconds in Zone StdDev',\n",
    " 'Month',\n",
    " 'Day',\n",
    " 'Year',\n",
    " 'Hour',\n",
    " 'Minute',\n",
    " 'Day of Week',\n",
    " 'Bin Duration (Seconds)']"
   ]
  },
  {
   "cell_type": "code",
   "execution_count": null,
   "id": "5d483c20",
   "metadata": {},
   "outputs": [],
   "source": [
    "['record _i_d',\n",
    " 'a_t_d _device _i_d',\n",
    " 'read _date',\n",
    " 'intersection _name',\n",
    " 'direction',\n",
    " 'movement',\n",
    " 'heavy _vehicle',\n",
    " 'volume',\n",
    " 'speed _average (_miles _per _hour)',\n",
    " 'speed _std_dev',\n",
    " 'seconds in _zone _average',\n",
    " 'seconds in _zone _std_dev',\n",
    " 'month',\n",
    " 'day',\n",
    " 'year',\n",
    " 'hour',\n",
    " 'minute',\n",
    " 'day of _week',\n",
    " 'bin _duration (_seconds)']"
   ]
  },
  {
   "cell_type": "code",
   "execution_count": 11,
   "id": "a306d832-47bf-403e-becb-33d2e66a354b",
   "metadata": {},
   "outputs": [],
   "source": [
    "spark.stop()"
   ]
  }
 ],
 "metadata": {
  "kernelspec": {
   "display_name": ".venv",
   "language": "python",
   "name": "python3"
  },
  "language_info": {
   "codemirror_mode": {
    "name": "ipython",
    "version": 3
   },
   "file_extension": ".py",
   "mimetype": "text/x-python",
   "name": "python",
   "nbconvert_exporter": "python",
   "pygments_lexer": "ipython3",
   "version": "3.10.9"
  }
 },
 "nbformat": 4,
 "nbformat_minor": 5
}
